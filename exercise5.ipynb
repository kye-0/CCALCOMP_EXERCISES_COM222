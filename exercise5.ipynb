{
  "cells": [
    {
      "cell_type": "markdown",
      "metadata": {
        "colab_type": "text",
        "id": "view-in-github"
      },
      "source": [
        "<a href=\"https://colab.research.google.com/github/robitussin/CCALCOMP_EXERCISES/blob/main/exercise5.ipynb\" target=\"_parent\"><img src=\"https://colab.research.google.com/assets/colab-badge.svg\" alt=\"Open In Colab\"/></a>"
      ]
    },
    {
      "cell_type": "markdown",
      "metadata": {
        "id": "-8bYOEC8HOQ4"
      },
      "source": [
        "# Exercise 5\n",
        "\n",
        "Please follow the instructions in each number."
      ]
    },
    {
      "cell_type": "markdown",
      "metadata": {
        "id": "FEPXLUAPHOQ6"
      },
      "source": [
        "### Maximum Subarray\n",
        "Given an array of integers nums, find the subarray with the largest sum and return the sum.\n",
        "\n",
        "A subarray is a contiguous non-empty sequence of elements within an array.\n",
        "\n",
        "\n",
        "\n",
        "Example 1:\n",
        "\n",
        "Input: nums = [2,-3,4,-2,2,1,-1,4]\n",
        "\n",
        "Output: 8\n",
        "\n",
        "Explanation: The subarray [4,-2,2,1,-1,4] has the largest sum 8."
      ]
    },
    {
      "cell_type": "markdown",
      "metadata": {
        "id": "D4a-4yS4HOQ7"
      },
      "source": [
        "## Tasks"
      ]
    },
    {
      "cell_type": "markdown",
      "metadata": {
        "id": "v8mlE6kYHOQ7"
      },
      "source": [
        "1. Put your student number in a list and manually compute the maximum subarray in your student number (`10 points`)"
      ]
    },
    {
      "cell_type": "code",
      "execution_count": null,
      "metadata": {
        "id": "YJMIVpuTHOQ8",
        "vscode": {
          "languageId": "plaintext"
        }
      },
      "outputs": [],
      "source": [
        "Input: student_number = [2, 0, 2, 2, 1, 0, 6, 4, 8, 5]\n",
        "Output: 30\n",
        "\n",
        "Subarray [2, 0, 2, 2, 1, 0, 6, 4, 8, 5] has sum 2+0+2+2+1+0+6+4+8+5 = 30"
      ]
    },
    {
      "cell_type": "markdown",
      "metadata": {
        "id": "nchQgI2KHOQ8"
      },
      "source": [
        "2. Write a program using a brute-force approach to get the maximum-subarray of your student number (`40 points`)"
      ]
    },
    {
      "cell_type": "code",
      "execution_count": null,
      "metadata": {
        "id": "b9P6oe11HOQ9",
        "vscode": {
          "languageId": "plaintext"
        }
      },
      "outputs": [],
      "source": [
        "def max_subarray_bruteforce(nums):\n",
        "    max_sum = float('-inf')\n",
        "    n = len(nums)\n",
        "    \n",
        "    for i in range(n):\n",
        "        for j in range(i, n):\n",
        "            current_sum = sum(nums[i:j+1])\n",
        "            max_sum = max(max_sum, current_sum)\n",
        "    \n",
        "    return max_sum\n",
        "\n",
        "# Student number array\n",
        "student_number = [2, 0, 2, 2, 1, 0, 6, 4, 8, 5]\n",
        "\n",
        "# Call the function\n",
        "print(max_subarray_bruteforce(student_number))\n"
      ]
    },
    {
      "cell_type": "markdown",
      "metadata": {
        "id": "NkqAxIx_HOQ9"
      },
      "source": [
        "3. Write a program using a dynamic programming to get the maximum-subarray of your student number (`50 points`)"
      ]
    },
    {
      "cell_type": "code",
      "execution_count": null,
      "metadata": {
        "id": "BFBp2ARLHOQ9",
        "vscode": {
          "languageId": "plaintext"
        }
      },
      "outputs": [],
      "source": [
        "def max_subarray_dynamic(nums):\n",
        "    max_current = max_global = nums[0]\n",
        "    \n",
        "    for num in nums[1:]:\n",
        "        max_current = max(num, max_current + num)\n",
        "        if max_current > max_global:\n",
        "            max_global = max_current\n",
        "    \n",
        "    return max_global\n",
        "\n",
        "# Student number array\n",
        "student_number = [2, 0, 2, 2, 1, 0, 6, 4, 8, 5]\n",
        "\n",
        "# Call the function\n",
        "print(max_subarray_dynamic(student_number))"
      ]
    }
  ],
  "metadata": {
    "colab": {
      "include_colab_link": true,
      "provenance": []
    },
    "kernelspec": {
      "display_name": "base",
      "language": "python",
      "name": "python3"
    },
    "language_info": {
      "codemirror_mode": {
        "name": "ipython",
        "version": 3
      },
      "file_extension": ".py",
      "mimetype": "text/x-python",
      "name": "python",
      "nbconvert_exporter": "python",
      "pygments_lexer": "ipython3",
      "version": "3.9.6"
    }
  },
  "nbformat": 4,
  "nbformat_minor": 0
}
